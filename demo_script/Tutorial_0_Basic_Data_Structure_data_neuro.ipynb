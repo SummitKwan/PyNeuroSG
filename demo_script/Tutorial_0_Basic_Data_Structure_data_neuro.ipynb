{
 "cells": [
  {
   "cell_type": "markdown",
   "metadata": {
    "collapsed": true
   },
   "source": [
    "# Tutorial 0: Basic Data Structure `data_neuro`\n",
    "\n",
    "2017-0928, Shaobo Guan, Brown University\n",
    "\n",
    "This short notebook demonstrates the core data strucure used in this module: **data_neuro**, which conviniently stores the multi-channel neurophysiological data (either for spikes or LFPs) alignted to a task-related event onset (e.g. trail onset, stimulus onset, response onset. etc )\n",
    "\n",
    "Most data analsis and visialization methods package `PyNeuroSG` works on this data stucure.   \n",
    "\n",
    "This tutorial covers:\n",
    "\n",
    "1. get sample data\n",
    "2. loading raw neural data behavioral data \n",
    "3. generate data_neuro, and its structure\n",
    "4. saving and loading data_neuro using hdf5 format\n",
    "5. bacis analysis and visualization"
   ]
  },
  {
   "cell_type": "markdown",
   "metadata": {},
   "source": [
    "# Section 0: Get Example Data\n",
    "\n",
    "example data can be downloaded from dropbox public link: 'https://www.dropbox.com/s/ujr8qgcgkqp9lgr/example_data_Thor_180530.zip?dl=1', decompress it and put under package_root/deme_data\n",
    "\n",
    "The script below will process this automatically. If the script below does not work (perhaps due to Drobbox API), you and downloa and decompress manually"
   ]
  },
  {
   "cell_type": "code",
   "execution_count": 1,
   "metadata": {},
   "outputs": [
    {
     "name": "stdout",
     "output_type": "stream",
     "text": [
      "finished\n"
     ]
    }
   ],
   "source": [
    "import os\n",
    "import urllib.request\n",
    "import zipfile\n",
    "\n",
    "cur_path = os.getcwd()\n",
    "\n",
    "rel_path_demo_data_folder = '../demo_data'\n",
    "filename_zip_demo_data = 'example_data_Thor_180530.zip'\n",
    "dirname_demo_data = 'example_data_Thor_180530'\n",
    "data_url = 'https://www.dropbox.com/s/ujr8qgcgkqp9lgr/example_data_Thor_180530.zip?dl=1'\n",
    "\n",
    "rel_path_demo_data_folder\n",
    "\n",
    "path_demo_data_folder = os.path.normpath(os.path.join(cur_path, rel_path_demo_data_folder))\n",
    "path_zip_demo_data = os.path.join(path_demo_data_folder, filename_zip_demo_data)\n",
    "path_dir_demo_data = os.path.join(path_demo_data_folder, dirname_demo_data)\n",
    "\n",
    "# create demo_data_folder\n",
    "if not os.path.isdir(path_demo_data_folder):\n",
    "    os.mkdir(path_demo_data_folder)\n",
    "    print('create dir at {}'.format(path_demo_data_folder))\n",
    "\n",
    "# download demo data from dropbox url \n",
    "if not os.path.exists(path_zip_demo_data):\n",
    "    with urllib.request.urlopen(data_url) as u:\n",
    "        print('reading url ...')\n",
    "        url_content = u.read()\n",
    "    with open(path_zip_demo_data, 'wb') as f:\n",
    "        print('creating zip file ...')\n",
    "        f.write(url_content)\n",
    "\n",
    "# decompress zip file\n",
    "if not os.path.exists(path_dir_demo_data):\n",
    "    with zipfile.ZipFile(path_zip_demo_data, 'r') as zip_ref:\n",
    "        zip_ref.extractall(rel_path_demo_data_folder)\n",
    "    \n",
    "print('finished')"
   ]
  },
  {
   "cell_type": "markdown",
   "metadata": {},
   "source": [
    "Now the example data should exist in the following structure:\n",
    "```\n",
    "package root\n",
    " |- demo_data (directory)\n",
    "      |- example_data_Thor_180530 (directory)\n",
    "         |-Thor_U16_180530 (direcotry containing neurophysiological data recorded using TDT device)\n",
    "         |    |- h_srv_mask_053018002  (directory for a recording session, defined by TDT recording device)\n",
    "         |    |- h_srv_mask_053018003\n",
    "         |    |- h_V4_spot_053018010\n",
    "         |\n",
    "         |-behavioral data (directory containing behavioral data)\n",
    "              |- h_srv_mask_053018002.dg  (file for a recording session, a big table)\n",
    "              |- h_srv_mask_053018003.dg\n",
    "              |- h_V4_spot_0530180010.dg\n",
    "```"
   ]
  },
  {
   "cell_type": "markdown",
   "metadata": {},
   "source": [
    "# Section 1: Read neural data usign python-neo package\n",
    "\n",
    "## 1.1 load neural andbehaviral data"
   ]
  },
  {
   "cell_type": "code",
   "execution_count": 2,
   "metadata": {},
   "outputs": [
    {
     "data": {
      "text/plain": [
       "'/shared/homes/sguan/Coding_Projects/PyNeuroSG/demo_data/example_data_Thor_180530'"
      ]
     },
     "execution_count": 2,
     "metadata": {},
     "output_type": "execute_result"
    }
   ],
   "source": [
    "path_dir_demo_data"
   ]
  },
  {
   "cell_type": "code",
   "execution_count": 3,
   "metadata": {},
   "outputs": [
    {
     "name": "stderr",
     "output_type": "stream",
     "text": [
      "/shared/homes/sguan/anaconda3/lib/python3.6/site-packages/h5py/__init__.py:36: FutureWarning: Conversion of the second argument of issubdtype from `float` to `np.floating` is deprecated. In future, it will be treated as `np.float64 == np.dtype(float).type`.\n",
      "  from ._conv import register_converters as _register_converters\n"
     ]
    }
   ],
   "source": [
    "# standard Python pakages\n",
    "import os\n",
    "import sys\n",
    "import numpy as np\n",
    "import scipy as sp\n",
    "import pandas as pd         # pandas tabular DataFrame for task/behavioral data\n",
    "import matplotlib as mpl    # plot\n",
    "import matplotlib.pyplot as plt\n",
    "import re                   # regular expression\n",
    "import time                 # time code execution\n",
    "import pickle\n",
    "\n",
    "# sub-modules in the package of PyNeuroSG \n",
    "import PyNeuroData as pnd   # in this package: align neural data according to task\n",
    "import df_ana               # in this package: functions related to analys DataFrame (table-like) data\n",
    "import PyNeuroAna as pna    # in this package: analysis\n",
    "import PyNeuroPlot as pnp   # in this package: plot\n",
    "import misc_tools           # in this package: misc\n",
    "\n",
    "import data_load_DLSH       # package specific for data stored in Sheinberg lab\n",
    "\n",
    "# make matplotlib plots show in Jupyter Notebook\n",
    "%matplotlib inline"
   ]
  },
  {
   "cell_type": "code",
   "execution_count": 4,
   "metadata": {},
   "outputs": [
    {
     "name": "stdout",
     "output_type": "stream",
     "text": [
      "the following tdt blockes are selected: ['h_srv_mask_053018002', 'h_srv_mask_053018003']\n",
      "the following dg files are selected: ['h_srv_mask_053018002', 'h_srv_mask_053018003']\n",
      "the their intersections are: ['h_srv_mask_053018002', 'h_srv_mask_053018003']\n",
      "\n",
      "the data files to be loaded are: ['h_srv_mask_053018002', 'h_srv_mask_053018003']\n",
      "loading TDT block: h_srv_mask_053018002\n",
      "loading TDT block: h_srv_mask_053018003\n",
      "finish loading tdt blocks\n",
      "loading dg: h_srv_mask_053018002.dg\n",
      "loading dg: h_srv_mask_053018003.dg\n",
      "finish loading and concatenating dgs\n"
     ]
    }
   ],
   "source": [
    "\"\"\" load data \"\"\"\n",
    "keyword_tank = 'Thor_U16.*'     # regular expression, or use the full name 'Thor_U16_180530'\n",
    "keyword_block = 'h_srv_.*'      # regular expression of the recording session names\n",
    "tf_interactive = False          # if True, select recording sessions manually, otherwise, use all that matches\n",
    "\n",
    "\"\"\" load neural data and behaviral data that matches the keywords \"\"\"\n",
    "[blk, data_df, name_tdt_blocks] = data_load_DLSH.load_data(keyword = keyword_block, keyword_tank=keyword_tank,\n",
    "                                                           tf_interactive=tf_interactive,\n",
    "                                                           dir_tdt_tank=path_dir_demo_data,\n",
    "                                                           dir_dg=os.path.join(path_dir_demo_data, 'behavioral_data'),\n",
    "                                                          mode='both')\n",
    "\n",
    "filename_common = misc_tools.str_common(name_tdt_blocks)\n",
    "dir_temp_fig = './temp_figs'\n",
    "\n",
    "\"\"\" make sure data field exists and standardize it \"\"\"\n",
    "data_df = data_load_DLSH.standardize_data_df(data_df, filename_common)\n",
    "blk = data_load_DLSH.standardize_blk(blk)"
   ]
  },
  {
   "cell_type": "markdown",
   "metadata": {},
   "source": [
    "Now the neural data and behaviroal data hava been loaded.\n",
    "\n",
    "The neural data is stored in blk, and the behaviral data is stroed in data_df\n",
    "\n",
    "## 1.2 the stuture of the raw neural data: blk:\n",
    "\n",
    "blk is the block object defined in the python-neo module:\n",
    "\n",
    "htts://neuralensemble.org/neo/\n",
    "\n",
    ">  Neo is a package for representing electrophysiology data in Python, together with support for reading a wide range of neurophysiology file formats including\n",
    "Spike2, NeuroExplorer, AlphaOmega, Axon, Blackrock, Plexon, Tdt.\n",
    "\n",
    "We here use the neo package to read the neural data recorded from differnt equipments into a standard format, therefore the later analysis is independet of the ogirinal data format, making our analysis pakage platform-indepdent\n",
    "\n",
    "The neo block object **blk** contains multiple segments, each corresponding to a recorded data file, e.g. a experiment session.  Every segments contains several types of data, e.g. spiketrains (time stamps), anglogsignals (e.g. continuouly sampled LFP signal) and events (e.g., timing information of the start and end of a trial), as is shown below\n",
    "\n"
   ]
  },
  {
   "cell_type": "code",
   "execution_count": 5,
   "metadata": {},
   "outputs": [
    {
     "data": {
      "text/plain": [
       "<SpikeTrain(array([   3.35949922,    3.40254807,    3.53701973, ..., 1143.4421463 ,\n",
       "       1143.6031599 , 1143.73562455]) * s, [0.0 s, 1144.1150946617126 s])>"
      ]
     },
     "execution_count": 5,
     "metadata": {},
     "output_type": "execute_result"
    }
   ],
   "source": [
    "blk.segments[0].spiketrains[0]"
   ]
  },
  {
   "cell_type": "code",
   "execution_count": 6,
   "metadata": {},
   "outputs": [
    {
     "data": {
      "text/plain": [
       "AnalogSignal with 1 channels of length 1163648; units V; datatype float32 \n",
       "name: 'LFPs 1'\n",
       "annotations: {'channel_index': 1}\n",
       "sampling rate: 1017.2526245117188\n",
       "time: 9.5367431640625e-07 to 1143.9125079954242"
      ]
     },
     "execution_count": 6,
     "metadata": {},
     "output_type": "execute_result"
    }
   ],
   "source": [
    "blk.segments[0].analogsignals[0]"
   ]
  },
  {
   "cell_type": "code",
   "execution_count": 7,
   "metadata": {},
   "outputs": [
    {
     "name": "stdout",
     "output_type": "stream",
     "text": [
      "[4.19616699e-05 1.00003934e+00 2.00003672e+00 ... 1.14199712e+03\n",
      " 1.14299712e+03 1.14399711e+03] s\n"
     ]
    }
   ],
   "source": [
    "print(blk.segments[0].events[0])"
   ]
  },
  {
   "cell_type": "markdown",
   "metadata": {},
   "source": [
    "# Section 2 structure of the behavioral data:\n",
    "\n",
    "Other than the neural data, we ususally keep tracks of the task (e.g. the identity and onset time of a visual stimulus) and animals behaviral response (the correctness and timing of lever press and eye movement)\n",
    "\n",
    "The behviral data may be lab-specific, but typically organized as a table-like structure where every row represetn one trial and over column represent one feature of the task (stimulus onse, object identity, correct/wrong response, etc.)"
   ]
  },
  {
   "cell_type": "code",
   "execution_count": 8,
   "metadata": {},
   "outputs": [
    {
     "name": "stdout",
     "output_type": "stream",
     "text": [
      "Here are all the column names of the example table data_df:\n",
      "['blinkstarts', 'blinkstops', 'datecode', 'day', 'edge_blur', 'ems', 'endobs', 'endtrial', 'eyedist', 'file', 'fileid', 'fixjump', 'fixjump_pos', 'fixoff', 'fixon', 'grayscale', 'ids', 'mask_extensions', 'mask_index', 'mask_linearity', 'mask_names', 'mask_opacity', 'mask_orientation', 'mask_paths', 'mask_scale', 'month', 'nsaccades', 'obsid', 'order', 'reward_times', 'sacamps', 'sacdirs', 'sacfroms', 'sacstops', 'sactimes', 'sactos', 'sacvels', 'stim_categories', 'stim_durations', 'stim_extensions', 'stim_familiarized', 'stim_names', 'stim_paths', 'stim_posttimes', 'stim_rotations', 'stim_scales', 'stim_types', 'stimoff', 'stimon', 'stimtype', 'subj', 'targecc', 'year', 'filename', 'fileindex', '', 'obs_total', 'mask_opacity_int', 'stim_sname']\n",
      "Here are several example columns of the first 10 rows of the table\n"
     ]
    },
    {
     "data": {
      "text/html": [
       "<div>\n",
       "<style scoped>\n",
       "    .dataframe tbody tr th:only-of-type {\n",
       "        vertical-align: middle;\n",
       "    }\n",
       "\n",
       "    .dataframe tbody tr th {\n",
       "        vertical-align: top;\n",
       "    }\n",
       "\n",
       "    .dataframe thead th {\n",
       "        text-align: right;\n",
       "    }\n",
       "</style>\n",
       "<table border=\"1\" class=\"dataframe\">\n",
       "  <thead>\n",
       "    <tr style=\"text-align: right;\">\n",
       "      <th></th>\n",
       "      <th>obsid</th>\n",
       "      <th>stimon</th>\n",
       "      <th>stim_names</th>\n",
       "      <th>stim_familiarized</th>\n",
       "      <th>mask_opacity</th>\n",
       "    </tr>\n",
       "  </thead>\n",
       "  <tbody>\n",
       "    <tr>\n",
       "      <th>0</th>\n",
       "      <td>1</td>\n",
       "      <td>634</td>\n",
       "      <td>face_n09618957_11575</td>\n",
       "      <td>0</td>\n",
       "      <td>0.9</td>\n",
       "    </tr>\n",
       "    <tr>\n",
       "      <th>1</th>\n",
       "      <td>1</td>\n",
       "      <td>1065</td>\n",
       "      <td>dog_n02084071_85</td>\n",
       "      <td>0</td>\n",
       "      <td>0.0</td>\n",
       "    </tr>\n",
       "    <tr>\n",
       "      <th>2</th>\n",
       "      <td>1</td>\n",
       "      <td>1495</td>\n",
       "      <td>face_n09618957_3520</td>\n",
       "      <td>0</td>\n",
       "      <td>0.7</td>\n",
       "    </tr>\n",
       "    <tr>\n",
       "      <th>3</th>\n",
       "      <td>1</td>\n",
       "      <td>1925</td>\n",
       "      <td>bird_n01503061_4201</td>\n",
       "      <td>1</td>\n",
       "      <td>0.9</td>\n",
       "    </tr>\n",
       "    <tr>\n",
       "      <th>4</th>\n",
       "      <td>1</td>\n",
       "      <td>2356</td>\n",
       "      <td>face_n09618957_5192</td>\n",
       "      <td>1</td>\n",
       "      <td>0.0</td>\n",
       "    </tr>\n",
       "    <tr>\n",
       "      <th>5</th>\n",
       "      <td>10</td>\n",
       "      <td>524</td>\n",
       "      <td>house_n03545150_17794</td>\n",
       "      <td>1</td>\n",
       "      <td>0.9</td>\n",
       "    </tr>\n",
       "    <tr>\n",
       "      <th>6</th>\n",
       "      <td>10</td>\n",
       "      <td>954</td>\n",
       "      <td>face_n09618957_5192</td>\n",
       "      <td>1</td>\n",
       "      <td>0.9</td>\n",
       "    </tr>\n",
       "    <tr>\n",
       "      <th>7</th>\n",
       "      <td>10</td>\n",
       "      <td>1384</td>\n",
       "      <td>house_n03545150_8911</td>\n",
       "      <td>1</td>\n",
       "      <td>0.7</td>\n",
       "    </tr>\n",
       "    <tr>\n",
       "      <th>8</th>\n",
       "      <td>10</td>\n",
       "      <td>1815</td>\n",
       "      <td>house_n03545150_17794</td>\n",
       "      <td>1</td>\n",
       "      <td>0.7</td>\n",
       "    </tr>\n",
       "    <tr>\n",
       "      <th>9</th>\n",
       "      <td>10</td>\n",
       "      <td>2245</td>\n",
       "      <td>dog_n02084071_85</td>\n",
       "      <td>0</td>\n",
       "      <td>0.0</td>\n",
       "    </tr>\n",
       "  </tbody>\n",
       "</table>\n",
       "</div>"
      ],
      "text/plain": [
       "   obsid  stimon             stim_names  stim_familiarized  mask_opacity\n",
       "0      1     634   face_n09618957_11575                  0           0.9\n",
       "1      1    1065       dog_n02084071_85                  0           0.0\n",
       "2      1    1495    face_n09618957_3520                  0           0.7\n",
       "3      1    1925    bird_n01503061_4201                  1           0.9\n",
       "4      1    2356    face_n09618957_5192                  1           0.0\n",
       "5     10     524  house_n03545150_17794                  1           0.9\n",
       "6     10     954    face_n09618957_5192                  1           0.9\n",
       "7     10    1384   house_n03545150_8911                  1           0.7\n",
       "8     10    1815  house_n03545150_17794                  1           0.7\n",
       "9     10    2245       dog_n02084071_85                  0           0.0"
      ]
     },
     "execution_count": 8,
     "metadata": {},
     "output_type": "execute_result"
    }
   ],
   "source": [
    "print('Here are all the column names of the example table data_df:')\n",
    "print(data_df.columns.tolist())\n",
    "\n",
    "print(\"Here are several example columns of the first 10 rows of the table\")\n",
    "data_df[['obsid', 'stimon', 'stim_names', 'stim_familiarized', 'mask_opacity']].head(10)"
   ]
  },
  {
   "cell_type": "markdown",
   "metadata": {},
   "source": [
    "# Section 3: `data_neuro`: neural response aligned to the task\n",
    "\n",
    "the structure `data_neuro` aligns the raw neural data `blk` to the trial structure defined by the behaviral data `data_df`\n",
    "\n",
    "We usually align neuronal response to some important timestamps (eg. visual stimulus onset, motor command execusion, etc) and study the neuronal activity in respond to different exprimental conditions.  To do that efficiently, we organized data into the structure: `data_neuro`\n",
    "\n",
    "## 3.1 create `data_neuro` by aligning neural data to event"
   ]
  },
  {
   "cell_type": "code",
   "execution_count": 9,
   "metadata": {},
   "outputs": [
    {
     "data": {
      "text/plain": [
       "{'data': array([[[   0.,    0.,    0., ...,    0.,    0., 1000.],\n",
       "         [   0.,    0.,    0., ...,    0.,    0.,    0.],\n",
       "         [   0.,    0.,    0., ...,    0.,    0.,    0.],\n",
       "         ...,\n",
       "         [   0.,    0.,    0., ...,    0.,    0.,    0.],\n",
       "         [   0.,    0.,    0., ...,    0.,    0.,    0.],\n",
       "         [   0.,    0.,    0., ...,    0.,    0.,    0.]],\n",
       " \n",
       "        [[   0.,    0.,    0., ...,    0.,    0.,    0.],\n",
       "         [   0.,    0.,    0., ...,    0.,    0.,    0.],\n",
       "         [   0.,    0.,    0., ...,    0.,    0.,    0.],\n",
       "         ...,\n",
       "         [   0.,    0.,    0., ...,    0.,    0.,    0.],\n",
       "         [   0.,    0.,    0., ...,    0.,    0.,    0.],\n",
       "         [   0.,    0.,    0., ...,    0.,    0.,    0.]],\n",
       " \n",
       "        [[   0.,    0.,    0., ...,    0.,    0.,    0.],\n",
       "         [   0.,    0.,    0., ...,    0.,    0.,    0.],\n",
       "         [   0.,    0.,    0., ...,    0.,    0.,    0.],\n",
       "         ...,\n",
       "         [   0.,    0.,    0., ...,    0.,    0.,    0.],\n",
       "         [   0.,    0.,    0., ...,    0.,    0.,    0.],\n",
       "         [   0.,    0.,    0., ...,    0.,    0.,    0.]],\n",
       " \n",
       "        ...,\n",
       " \n",
       "        [[   0.,    0.,    0., ...,    0.,    0.,    0.],\n",
       "         [   0.,    0.,    0., ...,    0.,    0.,    0.],\n",
       "         [   0.,    0.,    0., ...,    0.,    0.,    0.],\n",
       "         ...,\n",
       "         [   0.,    0.,    0., ...,    0.,    0.,    0.],\n",
       "         [   0.,    0.,    0., ...,    0.,    0.,    0.],\n",
       "         [   0.,    0.,    0., ...,    0.,    0.,    0.]],\n",
       " \n",
       "        [[   0.,    0.,    0., ...,    0.,    0.,    0.],\n",
       "         [   0.,    0.,    0., ...,    0.,    0.,    0.],\n",
       "         [   0.,    0.,    0., ...,    0.,    0.,    0.],\n",
       "         ...,\n",
       "         [   0.,    0.,    0., ...,    0.,    0.,    0.],\n",
       "         [   0.,    0.,    0., ...,    0.,    0.,    0.],\n",
       "         [   0.,    0.,    0., ...,    0.,    0.,    0.]],\n",
       " \n",
       "        [[   0.,    0.,    0., ...,    0.,    0.,    0.],\n",
       "         [   0.,    0.,    0., ...,    0.,    0.,    0.],\n",
       "         [   0.,    0.,    0., ...,    0.,    0.,    0.],\n",
       "         ...,\n",
       "         [   0.,    0.,    0., ...,    0.,    0.,    0.],\n",
       "         [   0.,    0.,    0., ...,    0.,    0.,    0.],\n",
       "         [   0.,    0.,    0., ...,    0.,    0.,    0.]]]),\n",
       " 'ts': array([-0.1  , -0.099, -0.098, -0.097, -0.096, -0.095, -0.094, -0.093,\n",
       "        -0.092, -0.091, -0.09 , -0.089, -0.088, -0.087, -0.086, -0.085,\n",
       "        -0.084, -0.083, -0.082, -0.081, -0.08 , -0.079, -0.078, -0.077,\n",
       "        -0.076, -0.075, -0.074, -0.073, -0.072, -0.071, -0.07 , -0.069,\n",
       "        -0.068, -0.067, -0.066, -0.065, -0.064, -0.063, -0.062, -0.061,\n",
       "        -0.06 , -0.059, -0.058, -0.057, -0.056, -0.055, -0.054, -0.053,\n",
       "        -0.052, -0.051, -0.05 , -0.049, -0.048, -0.047, -0.046, -0.045,\n",
       "        -0.044, -0.043, -0.042, -0.041, -0.04 , -0.039, -0.038, -0.037,\n",
       "        -0.036, -0.035, -0.034, -0.033, -0.032, -0.031, -0.03 , -0.029,\n",
       "        -0.028, -0.027, -0.026, -0.025, -0.024, -0.023, -0.022, -0.021,\n",
       "        -0.02 , -0.019, -0.018, -0.017, -0.016, -0.015, -0.014, -0.013,\n",
       "        -0.012, -0.011, -0.01 , -0.009, -0.008, -0.007, -0.006, -0.005,\n",
       "        -0.004, -0.003, -0.002, -0.001,  0.   ,  0.001,  0.002,  0.003,\n",
       "         0.004,  0.005,  0.006,  0.007,  0.008,  0.009,  0.01 ,  0.011,\n",
       "         0.012,  0.013,  0.014,  0.015,  0.016,  0.017,  0.018,  0.019,\n",
       "         0.02 ,  0.021,  0.022,  0.023,  0.024,  0.025,  0.026,  0.027,\n",
       "         0.028,  0.029,  0.03 ,  0.031,  0.032,  0.033,  0.034,  0.035,\n",
       "         0.036,  0.037,  0.038,  0.039,  0.04 ,  0.041,  0.042,  0.043,\n",
       "         0.044,  0.045,  0.046,  0.047,  0.048,  0.049,  0.05 ,  0.051,\n",
       "         0.052,  0.053,  0.054,  0.055,  0.056,  0.057,  0.058,  0.059,\n",
       "         0.06 ,  0.061,  0.062,  0.063,  0.064,  0.065,  0.066,  0.067,\n",
       "         0.068,  0.069,  0.07 ,  0.071,  0.072,  0.073,  0.074,  0.075,\n",
       "         0.076,  0.077,  0.078,  0.079,  0.08 ,  0.081,  0.082,  0.083,\n",
       "         0.084,  0.085,  0.086,  0.087,  0.088,  0.089,  0.09 ,  0.091,\n",
       "         0.092,  0.093,  0.094,  0.095,  0.096,  0.097,  0.098,  0.099,\n",
       "         0.1  ,  0.101,  0.102,  0.103,  0.104,  0.105,  0.106,  0.107,\n",
       "         0.108,  0.109,  0.11 ,  0.111,  0.112,  0.113,  0.114,  0.115,\n",
       "         0.116,  0.117,  0.118,  0.119,  0.12 ,  0.121,  0.122,  0.123,\n",
       "         0.124,  0.125,  0.126,  0.127,  0.128,  0.129,  0.13 ,  0.131,\n",
       "         0.132,  0.133,  0.134,  0.135,  0.136,  0.137,  0.138,  0.139,\n",
       "         0.14 ,  0.141,  0.142,  0.143,  0.144,  0.145,  0.146,  0.147,\n",
       "         0.148,  0.149,  0.15 ,  0.151,  0.152,  0.153,  0.154,  0.155,\n",
       "         0.156,  0.157,  0.158,  0.159,  0.16 ,  0.161,  0.162,  0.163,\n",
       "         0.164,  0.165,  0.166,  0.167,  0.168,  0.169,  0.17 ,  0.171,\n",
       "         0.172,  0.173,  0.174,  0.175,  0.176,  0.177,  0.178,  0.179,\n",
       "         0.18 ,  0.181,  0.182,  0.183,  0.184,  0.185,  0.186,  0.187,\n",
       "         0.188,  0.189,  0.19 ,  0.191,  0.192,  0.193,  0.194,  0.195,\n",
       "         0.196,  0.197,  0.198,  0.199,  0.2  ,  0.201,  0.202,  0.203,\n",
       "         0.204,  0.205,  0.206,  0.207,  0.208,  0.209,  0.21 ,  0.211,\n",
       "         0.212,  0.213,  0.214,  0.215,  0.216,  0.217,  0.218,  0.219,\n",
       "         0.22 ,  0.221,  0.222,  0.223,  0.224,  0.225,  0.226,  0.227,\n",
       "         0.228,  0.229,  0.23 ,  0.231,  0.232,  0.233,  0.234,  0.235,\n",
       "         0.236,  0.237,  0.238,  0.239,  0.24 ,  0.241,  0.242,  0.243,\n",
       "         0.244,  0.245,  0.246,  0.247,  0.248,  0.249,  0.25 ,  0.251,\n",
       "         0.252,  0.253,  0.254,  0.255,  0.256,  0.257,  0.258,  0.259,\n",
       "         0.26 ,  0.261,  0.262,  0.263,  0.264,  0.265,  0.266,  0.267,\n",
       "         0.268,  0.269,  0.27 ,  0.271,  0.272,  0.273,  0.274,  0.275,\n",
       "         0.276,  0.277,  0.278,  0.279,  0.28 ,  0.281,  0.282,  0.283,\n",
       "         0.284,  0.285,  0.286,  0.287,  0.288,  0.289,  0.29 ,  0.291,\n",
       "         0.292,  0.293,  0.294,  0.295,  0.296,  0.297,  0.298,  0.299,\n",
       "         0.3  ,  0.301,  0.302,  0.303,  0.304,  0.305,  0.306,  0.307,\n",
       "         0.308,  0.309,  0.31 ,  0.311,  0.312,  0.313,  0.314,  0.315,\n",
       "         0.316,  0.317,  0.318,  0.319,  0.32 ,  0.321,  0.322,  0.323,\n",
       "         0.324,  0.325,  0.326,  0.327,  0.328,  0.329,  0.33 ,  0.331,\n",
       "         0.332,  0.333,  0.334,  0.335,  0.336,  0.337,  0.338,  0.339,\n",
       "         0.34 ,  0.341,  0.342,  0.343,  0.344,  0.345,  0.346,  0.347,\n",
       "         0.348,  0.349,  0.35 ,  0.351,  0.352,  0.353,  0.354,  0.355,\n",
       "         0.356,  0.357,  0.358,  0.359,  0.36 ,  0.361,  0.362,  0.363,\n",
       "         0.364,  0.365,  0.366,  0.367,  0.368,  0.369,  0.37 ,  0.371,\n",
       "         0.372,  0.373,  0.374,  0.375,  0.376,  0.377,  0.378,  0.379,\n",
       "         0.38 ,  0.381,  0.382,  0.383,  0.384,  0.385,  0.386,  0.387,\n",
       "         0.388,  0.389,  0.39 ,  0.391,  0.392,  0.393,  0.394,  0.395,\n",
       "         0.396,  0.397,  0.398,  0.399,  0.4  ,  0.401,  0.402,  0.403,\n",
       "         0.404,  0.405,  0.406,  0.407,  0.408,  0.409,  0.41 ,  0.411,\n",
       "         0.412,  0.413,  0.414,  0.415,  0.416,  0.417,  0.418,  0.419,\n",
       "         0.42 ,  0.421,  0.422,  0.423,  0.424,  0.425,  0.426,  0.427,\n",
       "         0.428,  0.429,  0.43 ,  0.431,  0.432,  0.433,  0.434,  0.435,\n",
       "         0.436,  0.437,  0.438,  0.439,  0.44 ,  0.441,  0.442,  0.443,\n",
       "         0.444,  0.445,  0.446,  0.447,  0.448,  0.449,  0.45 ,  0.451,\n",
       "         0.452,  0.453,  0.454,  0.455,  0.456,  0.457,  0.458,  0.459,\n",
       "         0.46 ,  0.461,  0.462,  0.463,  0.464,  0.465,  0.466,  0.467,\n",
       "         0.468,  0.469,  0.47 ,  0.471,  0.472,  0.473,  0.474,  0.475,\n",
       "         0.476,  0.477,  0.478,  0.479,  0.48 ,  0.481,  0.482,  0.483,\n",
       "         0.484,  0.485,  0.486,  0.487,  0.488,  0.489,  0.49 ,  0.491,\n",
       "         0.492,  0.493,  0.494,  0.495,  0.496,  0.497,  0.498,  0.499,\n",
       "         0.5  ,  0.501,  0.502,  0.503,  0.504,  0.505,  0.506,  0.507,\n",
       "         0.508,  0.509,  0.51 ,  0.511,  0.512,  0.513,  0.514,  0.515,\n",
       "         0.516,  0.517,  0.518,  0.519,  0.52 ,  0.521,  0.522,  0.523,\n",
       "         0.524,  0.525,  0.526,  0.527,  0.528,  0.529,  0.53 ,  0.531,\n",
       "         0.532,  0.533,  0.534,  0.535,  0.536,  0.537,  0.538,  0.539,\n",
       "         0.54 ,  0.541,  0.542,  0.543,  0.544,  0.545,  0.546,  0.547,\n",
       "         0.548,  0.549,  0.55 ,  0.551,  0.552,  0.553,  0.554,  0.555,\n",
       "         0.556,  0.557,  0.558,  0.559,  0.56 ,  0.561,  0.562,  0.563,\n",
       "         0.564,  0.565,  0.566,  0.567,  0.568,  0.569,  0.57 ,  0.571,\n",
       "         0.572,  0.573,  0.574,  0.575,  0.576,  0.577,  0.578,  0.579,\n",
       "         0.58 ,  0.581,  0.582,  0.583,  0.584,  0.585,  0.586,  0.587,\n",
       "         0.588,  0.589,  0.59 ,  0.591,  0.592,  0.593,  0.594,  0.595,\n",
       "         0.596,  0.597,  0.598,  0.599]),\n",
       " 'signal_info': array([('Chan5 Code1', 'spiketrains', 1000.,  5, 1),\n",
       "        ('Chan6 Code2', 'spiketrains', 1000.,  6, 2),\n",
       "        ('Chan7 Code2', 'spiketrains', 1000.,  7, 2),\n",
       "        ('Chan8 Code2', 'spiketrains', 1000.,  8, 2),\n",
       "        ('Chan9 Code1', 'spiketrains', 1000.,  9, 1),\n",
       "        ('Chan10 Code2', 'spiketrains', 1000., 10, 2),\n",
       "        ('Chan11 Code1', 'spiketrains', 1000., 11, 1),\n",
       "        ('Chan12 Code1', 'spiketrains', 1000., 12, 1),\n",
       "        ('Chan13 Code2', 'spiketrains', 1000., 13, 2),\n",
       "        ('Chan14 Code1', 'spiketrains', 1000., 14, 1),\n",
       "        ('Chan15 Code1', 'spiketrains', 1000., 15, 1),\n",
       "        ('Chan16 Code2', 'spiketrains', 1000., 16, 2)],\n",
       "       dtype=[('name', '<U32'), ('type', '<U32'), ('sampling_rate', '<f8'), ('channel_index', '<i8'), ('sort_code', '<i8')]),\n",
       " 'trial_info':      blinkstarts  blinkstops  datecode  day  edge_blur  \\\n",
       " 0           [-5]       [130]     43248   30          1   \n",
       " 1           [-5]       [130]     43248   30          1   \n",
       " 2           [-5]       [130]     43248   30          1   \n",
       " 3           [-5]       [130]     43248   30          1   \n",
       " 4           [-5]       [130]     43248   30          1   \n",
       " 5             []          []     43248   30          1   \n",
       " 6             []          []     43248   30          1   \n",
       " 7             []          []     43248   30          1   \n",
       " 8             []          []     43248   30          1   \n",
       " 9             []          []     43248   30          1   \n",
       " 10            []          []     43248   30          1   \n",
       " 11            []          []     43248   30          1   \n",
       " 12            []          []     43248   30          1   \n",
       " 13            []          []     43248   30          1   \n",
       " 14            []          []     43248   30          1   \n",
       " 15            []          []     43248   30          1   \n",
       " 16            []          []     43248   30          1   \n",
       " 17            []          []     43248   30          1   \n",
       " 18            []          []     43248   30          1   \n",
       " 19            []          []     43248   30          1   \n",
       " 20            []          []     43248   30          1   \n",
       " 21            []          []     43248   30          1   \n",
       " 22            []          []     43248   30          1   \n",
       " 23            []          []     43248   30          1   \n",
       " 24            []          []     43248   30          1   \n",
       " 25     [-5, 745]  [175, 815]     43248   30          1   \n",
       " 26     [-5, 745]  [175, 815]     43248   30          1   \n",
       " 27     [-5, 745]  [175, 815]     43248   30          1   \n",
       " 28     [-5, 745]  [175, 815]     43248   30          1   \n",
       " 29     [-5, 745]  [175, 815]     43248   30          1   \n",
       " ...          ...         ...       ...  ...        ...   \n",
       " 1170          []          []     43248   30          1   \n",
       " 1171          []          []     43248   30          1   \n",
       " 1172          []          []     43248   30          1   \n",
       " 1173          []          []     43248   30          1   \n",
       " 1174          []          []     43248   30          1   \n",
       " 1175          []          []     43248   30          1   \n",
       " 1176          []          []     43248   30          1   \n",
       " 1177          []          []     43248   30          1   \n",
       " 1178          []          []     43248   30          1   \n",
       " 1179          []          []     43248   30          1   \n",
       " 1180          []          []     43248   30          1   \n",
       " 1181          []          []     43248   30          1   \n",
       " 1182          []          []     43248   30          1   \n",
       " 1183          []          []     43248   30          1   \n",
       " 1184          []          []     43248   30          1   \n",
       " 1185          []          []     43248   30          1   \n",
       " 1186          []          []     43248   30          1   \n",
       " 1187          []          []     43248   30          1   \n",
       " 1188          []          []     43248   30          1   \n",
       " 1189          []          []     43248   30          1   \n",
       " 1190          []          []     43248   30          1   \n",
       " 1191          []          []     43248   30          1   \n",
       " 1192          []          []     43248   30          1   \n",
       " 1193          []          []     43248   30          1   \n",
       " 1194          []          []     43248   30          1   \n",
       " 1195          []          []     43248   30          1   \n",
       " 1196          []          []     43248   30          1   \n",
       " 1197          []          []     43248   30          1   \n",
       " 1198          []          []     43248   30          1   \n",
       " 1199          []          []     43248   30          1   \n",
       " \n",
       "                                                     ems  endobs  endtrial  \\\n",
       " 0     [[5.0], [11.294731, 13.579465, 15.011285, 15.7...    3086       945   \n",
       " 1     [[5.0], [11.294731, 13.579465, 15.011285, 15.7...    3086      1375   \n",
       " 2     [[5.0], [11.294731, 13.579465, 15.011285, 15.7...    3086      1805   \n",
       " 3     [[5.0], [11.294731, 13.579465, 15.011285, 15.7...    3086      2235   \n",
       " 4     [[5.0], [11.294731, 13.579465, 15.011285, 15.7...    3086      2666   \n",
       " 5     [[5.0], [-1.4707738, -1.7691193, -1.9573705, -...    2955       834   \n",
       " 6     [[5.0], [-1.4707738, -1.7691193, -1.9573705, -...    2955      1264   \n",
       " 7     [[5.0], [-1.4707738, -1.7691193, -1.9573705, -...    2955      1695   \n",
       " 8     [[5.0], [-1.4707738, -1.7691193, -1.9573705, -...    2955      2125   \n",
       " 9     [[5.0], [-1.4707738, -1.7691193, -1.9573705, -...    2955      2555   \n",
       " 10    [[5.0], [-0.2597594, -0.31145608, -0.3432407, ...    3114       923   \n",
       " 11    [[5.0], [-0.2597594, -0.31145608, -0.3432407, ...    3114      1353   \n",
       " 12    [[5.0], [-0.2597594, -0.31145608, -0.3432407, ...    3114      1783   \n",
       " 13    [[5.0], [-0.2597594, -0.31145608, -0.3432407, ...    3114      2213   \n",
       " 14    [[5.0], [-0.2597594, -0.31145608, -0.3432407, ...    3114      2644   \n",
       " 15    [[5.0], [0.12578174, 0.1493599, 0.16373685, 0....    5142       839   \n",
       " 16    [[5.0], [0.12578174, 0.1493599, 0.16373685, 0....    5142      1269   \n",
       " 17    [[5.0], [0.12578174, 0.1493599, 0.16373685, 0....    5142      1700   \n",
       " 18    [[5.0], [0.12578174, 0.1493599, 0.16373685, 0....    5142      2130   \n",
       " 19    [[5.0], [0.12578174, 0.1493599, 0.16373685, 0....    5142      2560   \n",
       " 20    [[5.0], [-0.7888747, -0.9416591, -1.0349566, -...    2997       835   \n",
       " 21    [[5.0], [-0.7888747, -0.9416591, -1.0349566, -...    2997      1265   \n",
       " 22    [[5.0], [-0.7888747, -0.9416591, -1.0349566, -...    2997      1696   \n",
       " 23    [[5.0], [-0.7888747, -0.9416591, -1.0349566, -...    2997      2126   \n",
       " 24    [[5.0], [-0.7888747, -0.9416591, -1.0349566, -...    2997      2556   \n",
       " 25    [[5.0], [-8.216979, -9.999049, -11.193348, -11...    3782      1610   \n",
       " 26    [[5.0], [-8.216979, -9.999049, -11.193348, -11...    3782      2041   \n",
       " 27    [[5.0], [-8.216979, -9.999049, -11.193348, -11...    3782      2471   \n",
       " 28    [[5.0], [-8.216979, -9.999049, -11.193348, -11...    3782      2901   \n",
       " 29    [[5.0], [-8.216979, -9.999049, -11.193348, -11...    3782      3332   \n",
       " ...                                                 ...     ...       ...   \n",
       " 1170  [[5.0], [0.7599376, 0.9177384, 1.0193038, 1.07...    3015       833   \n",
       " 1171  [[5.0], [0.7599376, 0.9177384, 1.0193038, 1.07...    3015      1263   \n",
       " 1172  [[5.0], [0.7599376, 0.9177384, 1.0193038, 1.07...    3015      1694   \n",
       " 1173  [[5.0], [0.7599376, 0.9177384, 1.0193038, 1.07...    3015      2124   \n",
       " 1174  [[5.0], [0.7599376, 0.9177384, 1.0193038, 1.07...    3015      2554   \n",
       " 1175  [[5.0], [-0.39236224, -0.4686327, -0.50779706,...    2993       841   \n",
       " 1176  [[5.0], [-0.39236224, -0.4686327, -0.50779706,...    2993      1272   \n",
       " 1177  [[5.0], [-0.39236224, -0.4686327, -0.50779706,...    2993      1702   \n",
       " 1178  [[5.0], [-0.39236224, -0.4686327, -0.50779706,...    2993      2132   \n",
       " 1179  [[5.0], [-0.39236224, -0.4686327, -0.50779706,...    2993      2563   \n",
       " 1180  [[5.0], [11.771408, 14.146814, 15.634469, 16.3...    3424      1283   \n",
       " 1181  [[5.0], [11.771408, 14.146814, 15.634469, 16.3...    3424      1713   \n",
       " 1182  [[5.0], [11.771408, 14.146814, 15.634469, 16.3...    3424      2143   \n",
       " 1183  [[5.0], [11.771408, 14.146814, 15.634469, 16.3...    3424      2574   \n",
       " 1184  [[5.0], [11.771408, 14.146814, 15.634469, 16.3...    3424      3004   \n",
       " 1185  [[5.0], [-0.12786315, -0.14286326, -0.14836748...    2979       837   \n",
       " 1186  [[5.0], [-0.12786315, -0.14286326, -0.14836748...    2979      1268   \n",
       " 1187  [[5.0], [-0.12786315, -0.14286326, -0.14836748...    2979      1698   \n",
       " 1188  [[5.0], [-0.12786315, -0.14286326, -0.14836748...    2979      2128   \n",
       " 1189  [[5.0], [-0.12786315, -0.14286326, -0.14836748...    2979      2558   \n",
       " 1190  [[5.0], [-0.32966843, -0.3599823, -0.33812702,...    2999       837   \n",
       " 1191  [[5.0], [-0.32966843, -0.3599823, -0.33812702,...    2999      1267   \n",
       " 1192  [[5.0], [-0.32966843, -0.3599823, -0.33812702,...    2999      1698   \n",
       " 1193  [[5.0], [-0.32966843, -0.3599823, -0.33812702,...    2999      2128   \n",
       " 1194  [[5.0], [-0.32966843, -0.3599823, -0.33812702,...    2999      2558   \n",
       " 1195  [[5.0], [-0.99458295, -1.1890765, -1.308513, -...    3096       935   \n",
       " 1196  [[5.0], [-0.99458295, -1.1890765, -1.308513, -...    3096      1365   \n",
       " 1197  [[5.0], [-0.99458295, -1.1890765, -1.308513, -...    3096      1796   \n",
       " 1198  [[5.0], [-0.99458295, -1.1890765, -1.308513, -...    3096      2226   \n",
       " 1199  [[5.0], [-0.99458295, -1.1890765, -1.308513, -...    3096      2656   \n",
       " \n",
       "                                                 eyedist  file  \\\n",
       " 0     [14.0210705, 16.860632, 18.641869, 19.53601, 1...     2   \n",
       " 1     [14.0210705, 16.860632, 18.641869, 19.53601, 1...     2   \n",
       " 2     [14.0210705, 16.860632, 18.641869, 19.53601, 1...     2   \n",
       " 3     [14.0210705, 16.860632, 18.641869, 19.53601, 1...     2   \n",
       " 4     [14.0210705, 16.860632, 18.641869, 19.53601, 1...     2   \n",
       " 5     [1.4972751, 1.7982869, 1.9854858, 2.0774665, 2...     2   \n",
       " 6     [1.4972751, 1.7982869, 1.9854858, 2.0774665, 2...     2   \n",
       " 7     [1.4972751, 1.7982869, 1.9854858, 2.0774665, 2...     2   \n",
       " 8     [1.4972751, 1.7982869, 1.9854858, 2.0774665, 2...     2   \n",
       " 9     [1.4972751, 1.7982869, 1.9854858, 2.0774665, 2...     2   \n",
       " 10    [3.1742792, 3.7944849, 4.167156, 4.3355, 4.382...     2   \n",
       " 11    [3.1742792, 3.7944849, 4.167156, 4.3355, 4.382...     2   \n",
       " 12    [3.1742792, 3.7944849, 4.167156, 4.3355, 4.382...     2   \n",
       " 13    [3.1742792, 3.7944849, 4.167156, 4.3355, 4.382...     2   \n",
       " 14    [3.1742792, 3.7944849, 4.167156, 4.3355, 4.382...     2   \n",
       " 15    [0.7788822, 0.93641484, 1.0368825, 1.0888115, ...     2   \n",
       " 16    [0.7788822, 0.93641484, 1.0368825, 1.0888115, ...     2   \n",
       " 17    [0.7788822, 0.93641484, 1.0368825, 1.0888115, ...     2   \n",
       " 18    [0.7788822, 0.93641484, 1.0368825, 1.0888115, ...     2   \n",
       " 19    [0.7788822, 0.93641484, 1.0368825, 1.0888115, ...     2   \n",
       " 20    [1.0910058, 1.3067782, 1.4377542, 1.4987253, 1...     2   \n",
       " 21    [1.0910058, 1.3067782, 1.4377542, 1.4987253, 1...     2   \n",
       " 22    [1.0910058, 1.3067782, 1.4377542, 1.4987253, 1...     2   \n",
       " 23    [1.0910058, 1.3067782, 1.4377542, 1.4987253, 1...     2   \n",
       " 24    [1.0910058, 1.3067782, 1.4377542, 1.4987253, 1...     2   \n",
       " 25    [19.489786, 23.48266, 26.019821, 27.31329, 27....     2   \n",
       " 26    [19.489786, 23.48266, 26.019821, 27.31329, 27....     2   \n",
       " 27    [19.489786, 23.48266, 26.019821, 27.31329, 27....     2   \n",
       " 28    [19.489786, 23.48266, 26.019821, 27.31329, 27....     2   \n",
       " 29    [19.489786, 23.48266, 26.019821, 27.31329, 27....     2   \n",
       " ...                                                 ...   ...   \n",
       " 1170  [1.5582546, 1.8682704, 2.0604818, 2.1566143, 2...     3   \n",
       " 1171  [1.5582546, 1.8682704, 2.0604818, 2.1566143, 2...     3   \n",
       " 1172  [1.5582546, 1.8682704, 2.0604818, 2.1566143, 2...     3   \n",
       " 1173  [1.5582546, 1.8682704, 2.0604818, 2.1566143, 2...     3   \n",
       " 1174  [1.5582546, 1.8682704, 2.0604818, 2.1566143, 2...     3   \n",
       " 1175  [0.792675, 0.9480347, 1.035204, 1.0585966, 1.0...     3   \n",
       " 1176  [0.792675, 0.9480347, 1.035204, 1.0585966, 1.0...     3   \n",
       " 1177  [0.792675, 0.9480347, 1.035204, 1.0585966, 1.0...     3   \n",
       " 1178  [0.792675, 0.9480347, 1.035204, 1.0585966, 1.0...     3   \n",
       " 1179  [0.792675, 0.9480347, 1.035204, 1.0585966, 1.0...     3   \n",
       " 1180  [12.252806, 14.724183, 16.271227, 17.04747, 17...     3   \n",
       " 1181  [12.252806, 14.724183, 16.271227, 17.04747, 17...     3   \n",
       " 1182  [12.252806, 14.724183, 16.271227, 17.04747, 17...     3   \n",
       " 1183  [12.252806, 14.724183, 16.271227, 17.04747, 17...     3   \n",
       " 1184  [12.252806, 14.724183, 16.271227, 17.04747, 17...     3   \n",
       " 1185  [1.1907772, 1.4403259, 1.6092668, 1.7081661, 1...     3   \n",
       " 1186  [1.1907772, 1.4403259, 1.6092668, 1.7081661, 1...     3   \n",
       " 1187  [1.1907772, 1.4403259, 1.6092668, 1.7081661, 1...     3   \n",
       " 1188  [1.1907772, 1.4403259, 1.6092668, 1.7081661, 1...     3   \n",
       " 1189  [1.1907772, 1.4403259, 1.6092668, 1.7081661, 1...     3   \n",
       " 1190  [0.925053, 1.0988154, 1.1966307, 1.2397188, 1....     3   \n",
       " 1191  [0.925053, 1.0988154, 1.1966307, 1.2397188, 1....     3   \n",
       " 1192  [0.925053, 1.0988154, 1.1966307, 1.2397188, 1....     3   \n",
       " 1193  [0.925053, 1.0988154, 1.1966307, 1.2397188, 1....     3   \n",
       " 1194  [0.925053, 1.0988154, 1.1966307, 1.2397188, 1....     3   \n",
       " 1195  [2.053973, 2.4669073, 2.7233078, 2.851058, 2.9...     3   \n",
       " 1196  [2.053973, 2.4669073, 2.7233078, 2.851058, 2.9...     3   \n",
       " 1197  [2.053973, 2.4669073, 2.7233078, 2.851058, 2.9...     3   \n",
       " 1198  [2.053973, 2.4669073, 2.7233078, 2.851058, 2.9...     3   \n",
       " 1199  [2.053973, 2.4669073, 2.7233078, 2.851058, 2.9...     3   \n",
       " \n",
       "            ...         stimtype  subj   targecc  year  \\\n",
       " 0          ...              453     h  0.890896  2018   \n",
       " 1          ...              257     h  0.987646  2018   \n",
       " 2          ...              292     h  1.106159  2018   \n",
       " 3          ...              205     h  1.027885  2018   \n",
       " 4          ...              382     h  1.043263  2018   \n",
       " 5          ...              228     h  0.206887  2018   \n",
       " 6          ...              222     h  0.099396  2018   \n",
       " 7          ...              189     h  0.532196  2018   \n",
       " 8          ...              188     h  0.296782  2018   \n",
       " 9          ...              377     h  0.568954  2018   \n",
       " 10         ...              538     h  0.509826  2018   \n",
       " 11         ...               25     h  0.451011  2018   \n",
       " 12         ...               78     h  0.637587  2018   \n",
       " 13         ...              174     h  0.284526  2018   \n",
       " 14         ...              297     h  0.418426  2018   \n",
       " 15         ...              412     h  0.336935  2018   \n",
       " 16         ...              136     h  1.131277  2018   \n",
       " 17         ...              280     h  1.706972  2018   \n",
       " 18         ...              277     h  0.159848  2018   \n",
       " 19         ...              127     h  0.184992  2018   \n",
       " 20         ...              332     h  0.239388  2018   \n",
       " 21         ...              529     h  0.405236  2018   \n",
       " 22         ...              438     h  1.202558  2018   \n",
       " 23         ...              309     h  0.765242  2018   \n",
       " 24         ...              220     h  0.807164  2018   \n",
       " 25         ...              436     h  0.728562  2018   \n",
       " 26         ...              370     h  0.453864  2018   \n",
       " 27         ...              112     h  0.293237  2018   \n",
       " 28         ...              369     h  0.645311  2018   \n",
       " 29         ...              450     h  0.627737  2018   \n",
       " ...        ...              ...   ...       ...   ...   \n",
       " 1170       ...               69     h  1.028788  2018   \n",
       " 1171       ...              467     h  1.081320  2018   \n",
       " 1172       ...               43     h  1.510527  2018   \n",
       " 1173       ...              472     h  0.921786  2018   \n",
       " 1174       ...              228     h  0.899020  2018   \n",
       " 1175       ...              218     h  1.034302  2018   \n",
       " 1176       ...               30     h  0.998562  2018   \n",
       " 1177       ...              453     h  1.331239  2018   \n",
       " 1178       ...              275     h  1.056913  2018   \n",
       " 1179       ...              270     h  0.837308  2018   \n",
       " 1180       ...              597     h  1.726017  2018   \n",
       " 1181       ...              368     h  1.526575  2018   \n",
       " 1182       ...               60     h  1.416544  2018   \n",
       " 1183       ...              431     h  1.187949  2018   \n",
       " 1184       ...              473     h  1.375348  2018   \n",
       " 1185       ...              225     h  1.254079  2018   \n",
       " 1186       ...              171     h  1.550113  2018   \n",
       " 1187       ...              393     h  1.347997  2018   \n",
       " 1188       ...              328     h  1.238887  2018   \n",
       " 1189       ...              239     h  1.293070  2018   \n",
       " 1190       ...               85     h  1.067937  2018   \n",
       " 1191       ...              557     h  1.476699  2018   \n",
       " 1192       ...              134     h  1.354529  2018   \n",
       " 1193       ...              297     h  1.097583  2018   \n",
       " 1194       ...              331     h  1.064605  2018   \n",
       " 1195       ...              148     h  1.801534  2018   \n",
       " 1196       ...                1     h  1.748177  2018   \n",
       " 1197       ...              596     h  1.410536  2018   \n",
       " 1198       ...              271     h  1.155662  2018   \n",
       " 1199       ...              267     h  1.678024  2018   \n",
       " \n",
       "                      filename  fileindex    obs_total  mask_opacity_int  \\\n",
       " 0     h_srv_mask_053018002.dg          0          376                90   \n",
       " 1     h_srv_mask_053018002.dg          0          376                 0   \n",
       " 2     h_srv_mask_053018002.dg          0          376                70   \n",
       " 3     h_srv_mask_053018002.dg          0          376                90   \n",
       " 4     h_srv_mask_053018002.dg          0          376                 0   \n",
       " 5     h_srv_mask_053018002.dg          0          376                90   \n",
       " 6     h_srv_mask_053018002.dg          0          376                90   \n",
       " 7     h_srv_mask_053018002.dg          0          376                70   \n",
       " 8     h_srv_mask_053018002.dg          0          376                70   \n",
       " 9     h_srv_mask_053018002.dg          0          376                 0   \n",
       " 10    h_srv_mask_053018002.dg          0          376                70   \n",
       " 11    h_srv_mask_053018002.dg          0          376                 0   \n",
       " 12    h_srv_mask_053018002.dg          0          376                70   \n",
       " 13    h_srv_mask_053018002.dg          0          376                70   \n",
       " 14    h_srv_mask_053018002.dg          0          376                70   \n",
       " 15    h_srv_mask_053018002.dg          0          376                70   \n",
       " 16    h_srv_mask_053018002.dg          0          376                 0   \n",
       " 17    h_srv_mask_053018002.dg          0          376                70   \n",
       " 18    h_srv_mask_053018002.dg          0          376                 0   \n",
       " 19    h_srv_mask_053018002.dg          0          376                 0   \n",
       " 20    h_srv_mask_053018002.dg          0          376                90   \n",
       " 21    h_srv_mask_053018002.dg          0          376                70   \n",
       " 22    h_srv_mask_053018002.dg          0          376                70   \n",
       " 23    h_srv_mask_053018002.dg          0          376                70   \n",
       " 24    h_srv_mask_053018002.dg          0          376                90   \n",
       " 25    h_srv_mask_053018002.dg          0          376                70   \n",
       " 26    h_srv_mask_053018002.dg          0          376                 0   \n",
       " 27    h_srv_mask_053018002.dg          0          376                90   \n",
       " 28    h_srv_mask_053018002.dg          0          376                 0   \n",
       " 29    h_srv_mask_053018002.dg          0          376                90   \n",
       " ...                       ...        ... ..       ...               ...   \n",
       " 1170  h_srv_mask_053018003.dg          1          376                50   \n",
       " 1171  h_srv_mask_053018003.dg          1          376                70   \n",
       " 1172  h_srv_mask_053018003.dg          1          376                50   \n",
       " 1173  h_srv_mask_053018003.dg          1          376                70   \n",
       " 1174  h_srv_mask_053018003.dg          1          376                70   \n",
       " 1175  h_srv_mask_053018003.dg          1          376                70   \n",
       " 1176  h_srv_mask_053018003.dg          1          376                 0   \n",
       " 1177  h_srv_mask_053018003.dg          1          376                70   \n",
       " 1178  h_srv_mask_053018003.dg          1          376                 0   \n",
       " 1179  h_srv_mask_053018003.dg          1          376                 0   \n",
       " 1180  h_srv_mask_053018003.dg          1          376                70   \n",
       " 1181  h_srv_mask_053018003.dg          1          376                 0   \n",
       " 1182  h_srv_mask_053018003.dg          1          376                50   \n",
       " 1183  h_srv_mask_053018003.dg          1          376                50   \n",
       " 1184  h_srv_mask_053018003.dg          1          376                70   \n",
       " 1185  h_srv_mask_053018003.dg          1          376                70   \n",
       " 1186  h_srv_mask_053018003.dg          1          376                50   \n",
       " 1187  h_srv_mask_053018003.dg          1          376                 0   \n",
       " 1188  h_srv_mask_053018003.dg          1          376                70   \n",
       " 1189  h_srv_mask_053018003.dg          1          376                70   \n",
       " 1190  h_srv_mask_053018003.dg          1          376                70   \n",
       " 1191  h_srv_mask_053018003.dg          1          376                50   \n",
       " 1192  h_srv_mask_053018003.dg          1          376                 0   \n",
       " 1193  h_srv_mask_053018003.dg          1          376                50   \n",
       " 1194  h_srv_mask_053018003.dg          1          376                70   \n",
       " 1195  h_srv_mask_053018003.dg          1          376                 0   \n",
       " 1196  h_srv_mask_053018003.dg          1          376                 0   \n",
       " 1197  h_srv_mask_053018003.dg          1          376                70   \n",
       " 1198  h_srv_mask_053018003.dg          1          376                 0   \n",
       " 1199  h_srv_mask_053018003.dg          1          376                 0   \n",
       " \n",
       "            stim_sname  \n",
       " 0      face_nov_11575  \n",
       " 1          dog_nov_85  \n",
       " 2       face_nov_3520  \n",
       " 3       bird_fam_4201  \n",
       " 4       face_fam_5192  \n",
       " 5     house_fam_17794  \n",
       " 6       face_fam_5192  \n",
       " 7      house_fam_8911  \n",
       " 8     house_fam_17794  \n",
       " 9          dog_nov_85  \n",
       " 10     house_nov_5871  \n",
       " 11      bird_fam_4201  \n",
       " 12     house_nov_5871  \n",
       " 13     bird_nov_21245  \n",
       " 14         dog_nov_85  \n",
       " 15      face_nov_3520  \n",
       " 16      dog_nov_14126  \n",
       " 17       car_fam_8642  \n",
       " 18         dog_nov_85  \n",
       " 19        dog_fam_377  \n",
       " 20      face_nov_3520  \n",
       " 21     house_fam_8911  \n",
       " 22     house_nov_5871  \n",
       " 23     house_fam_8911  \n",
       " 24       car_fam_8642  \n",
       " 25      dog_nov_14126  \n",
       " 26       car_nov_5021  \n",
       " 27      face_nov_3520  \n",
       " 28     house_fam_8911  \n",
       " 29       car_nov_5021  \n",
       " ...               ...  \n",
       " 1170   house_fam_8911  \n",
       " 1171      dog_fam_377  \n",
       " 1172    face_fam_7156  \n",
       " 1173    face_nov_3520  \n",
       " 1174  house_fam_17794  \n",
       " 1175   house_nov_5871  \n",
       " 1176     car_nov_5021  \n",
       " 1177   face_nov_11575  \n",
       " 1178    bird_nov_7473  \n",
       " 1179     car_nov_5021  \n",
       " 1180       dog_nov_85  \n",
       " 1181  house_fam_17794  \n",
       " 1182     car_fam_8642  \n",
       " 1183    car_nov_13043  \n",
       " 1184   face_nov_11575  \n",
       " 1185    bird_fam_4201  \n",
       " 1186    car_nov_13043  \n",
       " 1187   face_nov_11575  \n",
       " 1188  house_fam_17794  \n",
       " 1189   house_nov_7301  \n",
       " 1190    bird_fam_4201  \n",
       " 1191       dog_nov_85  \n",
       " 1192   bird_nov_21245  \n",
       " 1193       dog_nov_85  \n",
       " 1194    car_nov_13043  \n",
       " 1195  house_fam_17794  \n",
       " 1196     car_fam_3160  \n",
       " 1197    dog_nov_14126  \n",
       " 1198    car_nov_13043  \n",
       " 1199      dog_fam_377  \n",
       " \n",
       " [1200 rows x 59 columns]}"
      ]
     },
     "execution_count": 9,
     "metadata": {},
     "output_type": "execute_result"
    }
   ],
   "source": [
    "\"\"\" align neural data to the event 'stimon' from behaviral data \"\"\"\n",
    "\n",
    "# get the timestamps of the stimon event relative to the sync signal, and translate it to the absolute time in the neural data file\n",
    "ts_StimOn = data_load_DLSH.get_ts_align(blk, data_df, dg_tos_align='stimon')\n",
    "\n",
    "# align the neural data according to the timestamps, here only use the spiketrains data\n",
    "data_neuro = pnd.blk_align_to_evt(blk, ts_StimOn, [-0.100, 0.600], type_filter='spiketrains.*',\n",
    "                                           name_filter='.*Code[1-9]$', spike_bin_rate=1000)\n",
    "pnd.include_trial_info(data_neuro, data_df)"
   ]
  },
  {
   "cell_type": "markdown",
   "metadata": {},
   "source": [
    "## 3.2 structure of `data_neuro`"
   ]
  },
  {
   "cell_type": "code",
   "execution_count": 10,
   "metadata": {},
   "outputs": [
    {
     "name": "stdout",
     "output_type": "stream",
     "text": [
      "the dictionary data_neural contains the following fields:    dict_keys(['data', 'ts', 'signal_info', 'trial_info'])\n",
      "the \"data\" field contains a 3D numpy array of shape  (1200, 700, 12)\n",
      "the \"ts\" field contains a 1D numpy array of length (700,)\n",
      "the \"signal_info\" field contains a table of length (12,)\n",
      "the behaviral data table data_df contains 1200 rows\n"
     ]
    }
   ],
   "source": [
    "print('the dictionary data_neural contains the following fields:    {}'.format(data_neuro.keys()))\n",
    "\n",
    "print('the \"data\" field contains a 3D numpy array of shape  {}'.format(data_neuro['data'].shape) )\n",
    "\n",
    "print('the \"ts\" field contains a 1D numpy array of length {}'.format(data_neuro['ts'].shape) )\n",
    "\n",
    "print('the \"signal_info\" field contains a table of length {}'.format(data_neuro['signal_info'].shape) )\n",
    "\n",
    "print('the behaviral data table data_df contains {} rows'.format(len(data_df)))"
   ]
  },
  {
   "cell_type": "markdown",
   "metadata": {},
   "source": [
    "`data_neuro['data']` contains the aligned neural data.\n",
    "\n",
    "The shape of it is [num_trials, num_timesstampts, num_signals], where every entry represent (the number_of_spikes * spike_bin_rate) during a time bin of a trail from a signal\n",
    "\n",
    "The example data contains:\n",
    "\n",
    "- 1200 trials, whose the task/behaviroral info is stored at table `data_df`\n",
    "- 700 timestamps (sampled at 1000 Hz, which is specified when calling funciton `blk_align_to_evt(spike_bin_rate=1000)`), the timing of every timestamp relative to the aligning event onset is strored in `data_neuro['ts']`; here the aligning event is `'stimon'`\n",
    "- 12 signals, here every signal is either MUA or SUA, whose names are shown below (show the first 5 rows): "
   ]
  },
  {
   "cell_type": "code",
   "execution_count": 11,
   "metadata": {},
   "outputs": [
    {
     "data": {
      "text/plain": [
       "array([[   0.,    0.,    0.,    0.,    0.],\n",
       "       [   0.,    0.,    0.,    0.,    0.],\n",
       "       [   0.,    0.,    0.,    0.,    0.],\n",
       "       [   0.,    0.,    0.,    0.,    0.],\n",
       "       [   0.,    0.,    0., 1000.,    0.],\n",
       "       [   0.,    0., 1000.,    0.,    0.],\n",
       "       [   0.,    0.,    0.,    0.,    0.],\n",
       "       [   0.,    0.,    0.,    0.,    0.],\n",
       "       [   0.,    0.,    0., 1000.,    0.],\n",
       "       [   0.,    0.,    0.,    0., 1000.]])"
      ]
     },
     "execution_count": 11,
     "metadata": {},
     "output_type": "execute_result"
    }
   ],
   "source": [
    "data_neuro['data'][0:10, 190:195, 0]"
   ]
  },
  {
   "cell_type": "code",
   "execution_count": 12,
   "metadata": {},
   "outputs": [
    {
     "data": {
      "text/plain": [
       "array([('Chan5 Code1', 'spiketrains', 1000., 5, 1),\n",
       "       ('Chan6 Code2', 'spiketrains', 1000., 6, 2),\n",
       "       ('Chan7 Code2', 'spiketrains', 1000., 7, 2),\n",
       "       ('Chan8 Code2', 'spiketrains', 1000., 8, 2),\n",
       "       ('Chan9 Code1', 'spiketrains', 1000., 9, 1)],\n",
       "      dtype=[('name', '<U32'), ('type', '<U32'), ('sampling_rate', '<f8'), ('channel_index', '<i8'), ('sort_code', '<i8')])"
      ]
     },
     "execution_count": 12,
     "metadata": {},
     "output_type": "execute_result"
    }
   ],
   "source": [
    "data_neuro['signal_info'][0:5]"
   ]
  },
  {
   "cell_type": "markdown",
   "metadata": {},
   "source": [
    "We can easily get a rough overview of the data by plotting it usign funciton `DataNeuroSummaryPlot()`"
   ]
  },
  {
   "cell_type": "code",
   "execution_count": 13,
   "metadata": {},
   "outputs": [
    {
     "data": {
      "text/plain": [
       "[<matplotlib.axes._subplots.AxesSubplot at 0x7f5854642278>,\n",
       " <matplotlib.axes._axes.Axes at 0x7f5854581320>]"
      ]
     },
     "execution_count": 13,
     "metadata": {},
     "output_type": "execute_result"
    },
    {
     "data": {
      "image/png": "[encoded data removed]",
      "text/plain": [
       "<matplotlib.figure.Figure at 0x7f57d5a1dd30>"
      ]
     },
     "metadata": {},
     "output_type": "display_data"
    }
   ],
   "source": [
    "plt.figure(figsize=(10,10))\n",
    "pnp.DataNeuroSummaryPlot(data_neuro, tf_legend=True)"
   ]
  },
  {
   "cell_type": "markdown",
   "metadata": {},
   "source": [
    "In this figure, the rasters and PSTH across all trials and all singals are shown relative to the aligning evetn onset (`'stimon'` in this example).  Every trance represents a signal with their names listed in the legend, `averaged across N=1200` trials"
   ]
  },
  {
   "cell_type": "markdown",
   "metadata": {},
   "source": [
    "# 4 Save data to hdf5 format and load back\n",
    "\n",
    "hdf 5 is a convinient and powerful format for handlin large data\n",
    "\n",
    "https://support.hdfgroup.org/HDF5/\n",
    "\n",
    "We can easily store the aligned data to hdf5 format by using module store_hdf5 \n",
    "\n",
    "## 4.1 Save `data_neuro` to hdf5"
   ]
  },
  {
   "cell_type": "code",
   "execution_count": 14,
   "metadata": {},
   "outputs": [
    {
     "name": "stdout",
     "output_type": "stream",
     "text": [
      "old hdf5 file is deleted\n",
      "finsihed saving data_neuro to gropu Thor_180530/spk, in file ../demo_data/demo_data_Thor.hdf5\n",
      "    (Group)\n",
      "| Thor_180530    (Group)\n",
      "| | spk    (Group)\n",
      "| | | data    (1200, 700, 12)\n",
      "| | | signal_info    (Group)\n",
      "| | | trial_info    (Group)\n",
      "| | | ts    (700,)\n"
     ]
    },
    {
     "name": "stderr",
     "output_type": "stream",
     "text": [
      "/shared/homes/sguan/anaconda3/lib/python3.6/site-packages/IPython/core/interactiveshell.py:2963: PerformanceWarning: \n",
      "your performance may suffer as PyTables will pickle object types that it cannot\n",
      "map directly to c-types [inferred_type->mixed,key->block3_values] [items->['blinkstarts', 'blinkstops', 'ems', 'eyedist', 'fixjump_pos', 'mask_extensions', 'mask_names', 'mask_paths', 'sacamps', 'sacdirs', 'sacfroms', 'sacstops', 'sactimes', 'sactos', 'sacvels', 'stim_categories', 'stim_extensions', 'stim_names', 'stim_paths', 'subj', 'filename', '', 'stim_sname']]\n",
      "\n",
      "  exec(code_obj, self.user_global_ns, self.user_ns)\n"
     ]
    }
   ],
   "source": [
    "import store_hdf5\n",
    "import importlib\n",
    "importlib.reload(store_hdf5)\n",
    "\n",
    "# remove old hdf5 file \n",
    "\n",
    "filename_hdf5 = 'demo_data_Thor.hdf5'\n",
    "path_hdf5 = os.path.join(rel_path_demo_data_folder, filename_hdf5)\n",
    "if os.path.exists(path_hdf5):\n",
    "    os.remove(path_hdf5)\n",
    "    print('old hdf5 file is deleted')\n",
    "\n",
    "# save data_neuro to the hdf5, in group 'Thor_180530/spk'\n",
    "store_hdf5.SaveToH5(data_neuro, h5_filepath=path_hdf5, h5_groups=['Thor_180530', 'spk'])\n",
    "\n",
    "# display file structure\n",
    "store_hdf5.ShowH5(h5_filepath=path_hdf5)\n"
   ]
  },
  {
   "cell_type": "code",
   "execution_count": 15,
   "metadata": {},
   "outputs": [
    {
     "ename": "Exception",
     "evalue": "hf_group_already_exsits in hdf5 file, ['Thor_180530', 'spk']",
     "output_type": "error",
     "traceback": [
      "\u001b[0;31m---------------------------------------------------------------------------\u001b[0m",
      "\u001b[0;31mException\u001b[0m                                 Traceback (most recent call last)",
      "\u001b[0;32m<ipython-input-15-b08c0e89c0f4>\u001b[0m in \u001b[0;36m<module>\u001b[0;34m()\u001b[0m\n\u001b[1;32m      1\u001b[0m \u001b[0;31m# if we try to save that again at the same location, it will raise error, to prevent you from overwriting old data\u001b[0m\u001b[0;34m\u001b[0m\u001b[0;34m\u001b[0m\u001b[0m\n\u001b[0;32m----> 2\u001b[0;31m \u001b[0mstore_hdf5\u001b[0m\u001b[0;34m.\u001b[0m\u001b[0mSaveToH5\u001b[0m\u001b[0;34m(\u001b[0m\u001b[0mdata_neuro\u001b[0m\u001b[0;34m,\u001b[0m \u001b[0mh5_filepath\u001b[0m\u001b[0;34m=\u001b[0m\u001b[0mpath_hdf5\u001b[0m\u001b[0;34m,\u001b[0m \u001b[0mh5_groups\u001b[0m\u001b[0;34m=\u001b[0m\u001b[0;34m[\u001b[0m\u001b[0;34m'Thor_180530'\u001b[0m\u001b[0;34m,\u001b[0m \u001b[0;34m'spk'\u001b[0m\u001b[0;34m]\u001b[0m\u001b[0;34m)\u001b[0m\u001b[0;34m\u001b[0m\u001b[0m\n\u001b[0m",
      "\u001b[0;32m~/Coding_Projects/PyNeuroSG/store_hdf5.py\u001b[0m in \u001b[0;36mSaveToH5\u001b[0;34m(data_neuro, h5_filepath, h5_groups)\u001b[0m\n\u001b[1;32m     24\u001b[0m \u001b[0;34m\u001b[0m\u001b[0m\n\u001b[1;32m     25\u001b[0m         \u001b[0;32mif\u001b[0m \u001b[0mlen\u001b[0m\u001b[0;34m(\u001b[0m\u001b[0mhf_cur\u001b[0m\u001b[0;34m.\u001b[0m\u001b[0mkeys\u001b[0m\u001b[0;34m(\u001b[0m\u001b[0;34m)\u001b[0m\u001b[0;34m)\u001b[0m \u001b[0;34m>\u001b[0m\u001b[0;36m0\u001b[0m\u001b[0;34m:\u001b[0m\u001b[0;34m\u001b[0m\u001b[0m\n\u001b[0;32m---> 26\u001b[0;31m             \u001b[0;32mraise\u001b[0m \u001b[0mException\u001b[0m\u001b[0;34m(\u001b[0m\u001b[0;34m'hf_group_already_exsits in hdf5 file, {}'\u001b[0m\u001b[0;34m.\u001b[0m\u001b[0mformat\u001b[0m\u001b[0;34m(\u001b[0m\u001b[0mh5_groups\u001b[0m\u001b[0;34m)\u001b[0m\u001b[0;34m)\u001b[0m\u001b[0;34m\u001b[0m\u001b[0m\n\u001b[0m\u001b[1;32m     27\u001b[0m \u001b[0;34m\u001b[0m\u001b[0m\n\u001b[1;32m     28\u001b[0m         \u001b[0mhf_cur\u001b[0m\u001b[0;34m.\u001b[0m\u001b[0mcreate_dataset\u001b[0m\u001b[0;34m(\u001b[0m\u001b[0;34m'data'\u001b[0m\u001b[0;34m,\u001b[0m \u001b[0mdata\u001b[0m\u001b[0;34m=\u001b[0m\u001b[0mdata_neuro\u001b[0m\u001b[0;34m[\u001b[0m\u001b[0;34m'data'\u001b[0m\u001b[0;34m]\u001b[0m\u001b[0;34m)\u001b[0m\u001b[0;34m\u001b[0m\u001b[0m\n",
      "\u001b[0;31mException\u001b[0m: hf_group_already_exsits in hdf5 file, ['Thor_180530', 'spk']"
     ]
    }
   ],
   "source": [
    "# if we try to save that again at the same location, it will raise error, to prevent you from overwriting old data\n",
    "store_hdf5.SaveToH5(data_neuro, h5_filepath=path_hdf5, h5_groups=['Thor_180530', 'spk'])"
   ]
  },
  {
   "cell_type": "code",
   "execution_count": null,
   "metadata": {},
   "outputs": [],
   "source": [
    "#we can store anothe copy of data under a differnt group\n",
    "\n",
    "store_hdf5.SaveToH5(data_neuro, h5_filepath=path_hdf5, h5_groups=['Thor_180530', 'spk_copy'])\n",
    "\n",
    "store_hdf5.ShowH5(h5_filepath=path_hdf5)"
   ]
  },
  {
   "cell_type": "markdown",
   "metadata": {},
   "source": [
    "## 4.2 Load data from hdf5"
   ]
  },
  {
   "cell_type": "code",
   "execution_count": null,
   "metadata": {},
   "outputs": [],
   "source": [
    "data_neuro = store_hdf5.LoadFromH5(h5_filepath=path_hdf5, h5_groups=['Thor_180530', 'spk'])"
   ]
  },
  {
   "cell_type": "markdown",
   "metadata": {},
   "source": [
    "# 5 Group data by task/behaviroal conditions\n",
    "\n",
    "We usually want to group the data according to the conditions that we care about, e.g. differnt visual stimulus, correct/wrong response, etc.\n",
    "\n",
    "In whis example dataset, I only want to get the trials where 'mask_opacity' equals zero, and then group data by `'stim_sname'`"
   ]
  },
  {
   "cell_type": "code",
   "execution_count": null,
   "metadata": {},
   "outputs": [],
   "source": [
    "data_neuro = pnd.neuro_sort(data_df, grpby=['stim_sname'], fltr=data_df['mask_opacity']==0.0, neuro=data_neuro)"
   ]
  },
  {
   "cell_type": "code",
   "execution_count": null,
   "metadata": {},
   "outputs": [],
   "source": [
    "print('Now data_neuron contains the following fields:\\n{}\\n'.format(list(data_neuro.keys())))\n",
    "\n",
    "print('field fltr')\n",
    "print(data_neuro['fltr'])\n",
    "print('')\n",
    "print('field grpby')\n",
    "print(data_neuro['grpby'])\n",
    "print('')\n",
    "print('field cdtn')\n",
    "print(data_neuro['cdtn'])\n",
    "print('')\n",
    "print('field cdtn_indx of one condition: bird_fam_166')\n",
    "print(data_neuro['cdtn_indx']['bird_fam_166'])\n",
    "print('')"
   ]
  },
  {
   "cell_type": "markdown",
   "metadata": {},
   "source": [
    "We now see that there are several fields added to the dictionary 'data_neuro'\n",
    "\n",
    "Note that the filter and group-by action **does not** acturally modify the actrual data, but only adds the field `'cdtn_indx'` that stores the index of the trials falliing into that condition.\n",
    "\n",
    "In this example, we first filter the trail by setting `fltr=data_df['mask_opacity']==0.0`, therefore only trials satisfying this constain can be listed in the `cdtn_indx`; we also group trials by the field `'stim_snames'` of table `data_df`, and therefore trials from each unique condition of `'stim_sname'` will be listed in `'cdtn_indx'`\n",
    "\n",
    "## 5.1 Manually select one condition\n",
    "\n",
    "We now can get the spiking data from trials where `data_df['mask_opacity']==0.0` and `data_df['stim_sname']=='bird_fam_10012'` as follows\n"
   ]
  },
  {
   "cell_type": "code",
   "execution_count": null,
   "metadata": {},
   "outputs": [],
   "source": [
    "index_of_interest = data_neuro['cdtn_indx']['house_fam_17794']\n",
    "data_of_interest = data_neuro['data'][index_of_interest, :, :]\n",
    "data_of_interest.shape"
   ]
  },
  {
   "cell_type": "markdown",
   "metadata": {},
   "source": [
    "We can tell there are 20 trials that falls in our selection (still 700 timestamps and 12 channels)"
   ]
  },
  {
   "cell_type": "code",
   "execution_count": null,
   "metadata": {},
   "outputs": [],
   "source": [
    "plt.figure(figsize=(10,8))\n",
    "pnp.PsthPlot(data_of_interest, ts = data_neuro['ts'], sk_std=0.01, tf_legend=True)"
   ]
  },
  {
   "cell_type": "markdown",
   "metadata": {},
   "source": [
    "## 5.2 Compare one neuron's activity across conditions\n",
    "\n",
    "### 5.2.1 in one plot\n",
    "\n",
    "To understand one neurons's function, we are ussually interested in how its response gets modulatd by experimental conditions, instead of averating it over all conditions.\n",
    "\n",
    "Here we can conviniently compare the response across conditions by specifying argument `cdtn` (condition) to the plot function `PsthPlot`.  By doing this, the trials of the same condition are grouped together\n",
    "\n",
    "The upper panel is a raster plot of the spiking activity (different conditions are sorted and indicated by color), and the lower panel is the average spiking traces coreesponing to the four condtions."
   ]
  },
  {
   "cell_type": "code",
   "execution_count": null,
   "metadata": {},
   "outputs": [],
   "source": [
    "index_signal = 5\n",
    "pnp.PsthPlot(data_neuro['data'][:,:,index_signal], ts=data_neuro['ts'], \n",
    "             cdtn=data_df['mask_opacity'], sk_std=0.01, tf_legend=True, \n",
    "             xlabel='time (sec)', ylabel='firing rate')\n",
    "plt.title(data_neuro['signal_info']['name'][index_signal])"
   ]
  },
  {
   "cell_type": "markdown",
   "metadata": {},
   "source": [
    "### 5.2.2 in many subplots \n",
    "\n",
    "\n",
    "sometimes there are multiple dimentions to compare and one single panel is not sufficient.  Now we can plot the response in multiple subplots\n"
   ]
  },
  {
   "cell_type": "code",
   "execution_count": null,
   "metadata": {},
   "outputs": [],
   "source": [
    "sbuplot_groupby = ['stim_familiarized', 'mask_opacity_int']\n",
    "df_grpby = df_ana.DfGroupby(data_df, groupby=sbuplot_groupby, tf_aggregate=False)\n",
    "h_fig, h_axes = pnp.CreateSubplotFromGroupby(df_grpby['order'], figsize=(16,8))\n",
    "for cdtn in df_grpby['idx']:\n",
    "    plt.axes(h_axes[cdtn])\n",
    "    idx_trials = df_grpby['idx'][cdtn]\n",
    "    pnp.PsthPlot(data_neuro['data'][idx_trials, :, index_signal], ts=data_neuro['ts'], \n",
    "                 cdtn=data_df['stim_categories'][idx_trials], sk_std=0.01, tf_legend=True)\n",
    "    plt.title(cdtn)\n",
    "plt.suptitle('subplots grouped by {}'.format(sbuplot_groupby))"
   ]
  },
  {
   "cell_type": "markdown",
   "metadata": {},
   "source": [
    "## 5.3 a master function \n",
    "\n",
    "To sort conditions and plot neural data conviniently, there is a convinient wrapper function PsthPlotMultiPanel"
   ]
  },
  {
   "cell_type": "code",
   "execution_count": null,
   "metadata": {},
   "outputs": [],
   "source": [
    "# usse data_neuro\n",
    "pnp.PsthPlotMultiPanel(data_neuro=data_neuro, index_signal=5, limit=data_df['mask_opacity']<0.6,\n",
    "                      groupby_subplots=['stim_familiarized', 'mask_opacity_int'], groupby_panel='stim_categories', \n",
    "                       tf_legend=True, sk_std=0.01, xlabel='time (sec)', ylabel='firing rate')\n",
    "\n",
    "# some result, more controls\n",
    "pnp.PsthPlotMultiPanel(data2D=data_neuro['data'][:,:,0], ts=data_neuro['ts'], data_df=data_df, limit=data_df['mask_opacity']<0.6,\n",
    "                      groupby_subplots=['stim_familiarized', 'mask_opacity_int'], groupby_panel='stim_categories', \n",
    "                       tf_legend=True, sk_std=0.01, xlabel='time (sec)', ylabel='firing rate')\n",
    "\n"
   ]
  },
  {
   "cell_type": "code",
   "execution_count": null,
   "metadata": {},
   "outputs": [],
   "source": []
  }
 ],
 "metadata": {
  "kernelspec": {
   "display_name": "Python 3",
   "language": "python",
   "name": "python3"
  },
  "language_info": {
   "codemirror_mode": {
    "name": "ipython",
    "version": 3
   },
   "file_extension": ".py",
   "mimetype": "text/x-python",
   "name": "python",
   "nbconvert_exporter": "python",
   "pygments_lexer": "ipython3",
   "version": "3.6.5"
  }
 },
 "nbformat": 4,
 "nbformat_minor": 1
}
