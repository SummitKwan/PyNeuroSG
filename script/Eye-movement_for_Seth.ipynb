{
 "cells": [
  {
   "cell_type": "markdown",
   "metadata": {},
   "source": [
    "# example V4 eye-movement for Seth"
   ]
  },
  {
   "cell_type": "code",
   "execution_count": 1,
   "metadata": {},
   "outputs": [
    {
     "name": "stderr",
     "output_type": "stream",
     "text": [
      "/shared/homes/sguan/anaconda3/lib/python3.6/site-packages/h5py/__init__.py:36: FutureWarning: Conversion of the second argument of issubdtype from `float` to `np.floating` is deprecated. In future, it will be treated as `np.float64 == np.dtype(float).type`.\n",
      "  from ._conv import register_converters as _register_converters\n"
     ]
    }
   ],
   "source": [
    "import os\n",
    "import sys\n",
    "import numpy as np\n",
    "import scipy as sp\n",
    "import pandas as pd         # pandas tabular DataFrame for task/behavioral data\n",
    "import matplotlib as mpl    # plot\n",
    "import matplotlib.pyplot as plt\n",
    "import re                   # regular expression\n",
    "import time                 # time code execution\n",
    "import pickle\n",
    "import warnings\n",
    "import h5py\n",
    "\n",
    "import dg2df                # for DLSH dynamic group (behavioral data)\n",
    "import neo                  # data structure for neural data\n",
    "import quantities as pq\n",
    "import signal_align         # in this package: align neural data according to task\n",
    "import PyNeuroAna as pna    # in this package: analysis\n",
    "import PyNeuroPlot as pnp   # in this package: plot\n",
    "import misc_tools           # in this package: misc\n",
    "import df_ana\n",
    "\n",
    "import data_load_DLSH       # package specific for DLSH lab data\n"
   ]
  },
  {
   "cell_type": "markdown",
   "metadata": {},
   "source": [
    "# load data from an example day"
   ]
  },
  {
   "cell_type": "code",
   "execution_count": 35,
   "metadata": {},
   "outputs": [],
   "source": [
    "# specify data path\n",
    "dir_tdt_tank = '/shared/lab/projects/encounter/data/TDT'\n",
    "dir_dg = '/shared/lab/projects/analysis/shaobo/data_dg'\n",
    "\n",
    "# specify data to use\n",
    "keyword_tank='GM32_U16-161015.*'\n",
    "keyword_blk = '.*srv_mask'\n",
    "\n",
    "# load data\n",
    "[blk, data_df, name_tdt_blocks] = data_load_DLSH.load_data(\n",
    "    keyword_blk, keyword_tank,\n",
    "    dir_tdt_tank=dir_tdt_tank, dir_dg=dir_dg,\n",
    "    tf_interactive=False, tf_verbose=False)\n",
    "data_df_org = data_df"
   ]
  },
  {
   "cell_type": "markdown",
   "metadata": {},
   "source": [
    "# try to understand the behaviral data"
   ]
  },
  {
   "cell_type": "code",
   "execution_count": 97,
   "metadata": {
    "scrolled": true
   },
   "outputs": [
    {
     "name": "stdout",
     "output_type": "stream",
     "text": [
      "Index(['datecode', 'day', 'edge_blur', 'ems', 'endobs', 'endtrial', 'eyedist',\n",
      "       'file', 'fileid', 'fixjump', 'fixjump_pos', 'fixoff', 'fixon',\n",
      "       'grayscale', 'ids', 'mask_extensions', 'mask_index', 'mask_linearity',\n",
      "       'mask_names', 'mask_opacity', 'mask_orientation', 'mask_paths',\n",
      "       'mask_scale', 'month', 'nsaccades', 'obsid', 'order', 'reward_times',\n",
      "       'sacamps', 'sacdirs', 'sacfroms', 'sacstops', 'sactimes', 'sactos',\n",
      "       'sacvels', 'stim_categories', 'stim_durations', 'stim_extensions',\n",
      "       'stim_familiarized', 'stim_names', 'stim_paths', 'stim_posttimes',\n",
      "       'stim_rotations', 'stim_scales', 'stim_types', 'stimoff', 'stimon',\n",
      "       'stimtype', 'subj', 'targecc', 'year', 'filename', 'fileindex', ''],\n",
      "      dtype='object')\n"
     ]
    },
    {
     "data": {
      "image/png": "[encoded data removed]",
      "text/plain": [
       "<matplotlib.figure.Figure at 0x7fa584c099e8>"
      ]
     },
     "metadata": {},
     "output_type": "display_data"
    },
    {
     "data": {
      "text/html": [
       "<div>\n",
       "<style scoped>\n",
       "    .dataframe tbody tr th:only-of-type {\n",
       "        vertical-align: middle;\n",
       "    }\n",
       "\n",
       "    .dataframe tbody tr th {\n",
       "        vertical-align: top;\n",
       "    }\n",
       "\n",
       "    .dataframe thead th {\n",
       "        text-align: right;\n",
       "    }\n",
       "</style>\n",
       "<table border=\"1\" class=\"dataframe\">\n",
       "  <thead>\n",
       "    <tr style=\"text-align: right;\">\n",
       "      <th></th>\n",
       "      <th>endobs</th>\n",
       "      <th>fixjump</th>\n",
       "      <th>time_after_fixjump</th>\n",
       "      <th>len_ems</th>\n",
       "      <th>dur_ems</th>\n",
       "    </tr>\n",
       "  </thead>\n",
       "  <tbody>\n",
       "    <tr>\n",
       "      <th>0</th>\n",
       "      <td>3701</td>\n",
       "      <td>3511</td>\n",
       "      <td>190</td>\n",
       "      <td>741</td>\n",
       "      <td>3705</td>\n",
       "    </tr>\n",
       "    <tr>\n",
       "      <th>5</th>\n",
       "      <td>3491</td>\n",
       "      <td>3321</td>\n",
       "      <td>170</td>\n",
       "      <td>699</td>\n",
       "      <td>3495</td>\n",
       "    </tr>\n",
       "    <tr>\n",
       "      <th>10</th>\n",
       "      <td>3519</td>\n",
       "      <td>3319</td>\n",
       "      <td>200</td>\n",
       "      <td>704</td>\n",
       "      <td>3520</td>\n",
       "    </tr>\n",
       "    <tr>\n",
       "      <th>15</th>\n",
       "      <td>3596</td>\n",
       "      <td>3456</td>\n",
       "      <td>140</td>\n",
       "      <td>720</td>\n",
       "      <td>3600</td>\n",
       "    </tr>\n",
       "    <tr>\n",
       "      <th>20</th>\n",
       "      <td>3615</td>\n",
       "      <td>3445</td>\n",
       "      <td>170</td>\n",
       "      <td>723</td>\n",
       "      <td>3615</td>\n",
       "    </tr>\n",
       "    <tr>\n",
       "      <th>25</th>\n",
       "      <td>3518</td>\n",
       "      <td>3318</td>\n",
       "      <td>200</td>\n",
       "      <td>704</td>\n",
       "      <td>3520</td>\n",
       "    </tr>\n",
       "    <tr>\n",
       "      <th>30</th>\n",
       "      <td>5170</td>\n",
       "      <td>5000</td>\n",
       "      <td>170</td>\n",
       "      <td>1035</td>\n",
       "      <td>5175</td>\n",
       "    </tr>\n",
       "    <tr>\n",
       "      <th>35</th>\n",
       "      <td>3558</td>\n",
       "      <td>3408</td>\n",
       "      <td>150</td>\n",
       "      <td>712</td>\n",
       "      <td>3560</td>\n",
       "    </tr>\n",
       "    <tr>\n",
       "      <th>40</th>\n",
       "      <td>4399</td>\n",
       "      <td>4199</td>\n",
       "      <td>200</td>\n",
       "      <td>880</td>\n",
       "      <td>4400</td>\n",
       "    </tr>\n",
       "    <tr>\n",
       "      <th>45</th>\n",
       "      <td>3483</td>\n",
       "      <td>3323</td>\n",
       "      <td>160</td>\n",
       "      <td>697</td>\n",
       "      <td>3485</td>\n",
       "    </tr>\n",
       "  </tbody>\n",
       "</table>\n",
       "</div>"
      ],
      "text/plain": [
       "    endobs  fixjump  time_after_fixjump  len_ems  dur_ems\n",
       "0     3701     3511                 190      741     3705\n",
       "5     3491     3321                 170      699     3495\n",
       "10    3519     3319                 200      704     3520\n",
       "15    3596     3456                 140      720     3600\n",
       "20    3615     3445                 170      723     3615\n",
       "25    3518     3318                 200      704     3520\n",
       "30    5170     5000                 170     1035     5175\n",
       "35    3558     3408                 150      712     3560\n",
       "40    4399     4199                 200      880     4400\n",
       "45    3483     3323                 160      697     3485"
      ]
     },
     "execution_count": 97,
     "metadata": {},
     "output_type": "execute_result"
    }
   ],
   "source": [
    "# show eye-movement related colums of behavior data\n",
    "print(data_df_org.keys())\n",
    "data_df = data_df_org[data_df_org['order']==0]\n",
    "data_df = data_df[['endobs', 'fixon', 'fixoff', 'stimon', 'fixjump', 'fixjump_pos', 'nsaccades', 'sactimes', 'sacdirs', 'sacamps', 'ems']]\n",
    "data_df['len_ems'] = data_df['ems'].apply(lambda x: len(x[1]))\n",
    "data_df['dur_ems'] = data_df['len_ems'] * 5\n",
    "data_df['time_after_fixjump'] =  data_df['endobs'] - data_df['fixjump']\n",
    "\n",
    "\n",
    "data_df['time_after_fixjump'].hist(bins=100)\n",
    "plt.show()\n",
    "\n",
    "data_df[['endobs', 'fixjump', 'time_after_fixjump', 'len_ems', 'dur_ems']].head(n=10)\n",
    "\n"
   ]
  },
  {
   "cell_type": "markdown",
   "metadata": {},
   "source": [
    "# current understanding\n",
    "\n",
    "* the ems columns contains all eye position data during obs period, sampled at 5 ms interval\n",
    "* the obs end at 50 ~ 300 ms after fix jump, occurs, therefore not all eye position info is captured\n"
   ]
  },
  {
   "cell_type": "code",
   "execution_count": null,
   "metadata": {
    "scrolled": true
   },
   "outputs": [],
   "source": []
  },
  {
   "cell_type": "code",
   "execution_count": null,
   "metadata": {},
   "outputs": [],
   "source": []
  },
  {
   "cell_type": "code",
   "execution_count": null,
   "metadata": {},
   "outputs": [],
   "source": []
  }
 ],
 "metadata": {
  "kernelspec": {
   "display_name": "Python 3",
   "language": "python",
   "name": "python3"
  },
  "language_info": {
   "codemirror_mode": {
    "name": "ipython",
    "version": 3
   },
   "file_extension": ".py",
   "mimetype": "text/x-python",
   "name": "python",
   "nbconvert_exporter": "python",
   "pygments_lexer": "ipython3",
   "version": "3.6.5"
  }
 },
 "nbformat": 4,
 "nbformat_minor": 2
}
