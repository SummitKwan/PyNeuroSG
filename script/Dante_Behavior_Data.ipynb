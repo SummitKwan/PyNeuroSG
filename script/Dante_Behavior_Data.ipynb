{
 "cells": [
  {
   "cell_type": "markdown",
   "metadata": {},
   "source": [
    "# Dante's behavior data"
   ]
  },
  {
   "cell_type": "code",
   "execution_count": 1,
   "metadata": {},
   "outputs": [
    {
     "name": "stderr",
     "output_type": "stream",
     "text": [
      "/shared/homes/sguan/anaconda3/lib/python3.6/site-packages/h5py/__init__.py:36: FutureWarning: Conversion of the second argument of issubdtype from `float` to `np.floating` is deprecated. In future, it will be treated as `np.float64 == np.dtype(float).type`.\n",
      "  from ._conv import register_converters as _register_converters\n"
     ]
    }
   ],
   "source": [
    "%matplotlib inline\n",
    "import os     # for getting file paths\n",
    "import neo    # for reading neural data (TDT format)\n",
    "import dg2df  # for reading behavioral data\n",
    "import pandas as pd\n",
    "import re     # use regular expression to find file names\n",
    "import numpy as np\n",
    "import scipy as sp\n",
    "\n",
    "import misc_tools\n",
    "import signal_align\n",
    "import data_load_DLSH\n",
    "import matplotlib as mpl\n",
    "import matplotlib.pyplot as plt\n",
    "import df_ana\n",
    "import PyNeuroAna as pna\n",
    "import PyNeuroPlot as pnp\n",
    "import data_load_DLSH\n",
    "mpl.style.use('ggplot')"
   ]
  },
  {
   "cell_type": "code",
   "execution_count": 11,
   "metadata": {},
   "outputs": [
    {
     "data": {
      "image/png": "[encoded data removed]",
      "text/plain": [
       "<matplotlib.figure.Figure at 0x7ff8c46b7da0>"
      ]
     },
     "metadata": {},
     "output_type": "display_data"
    }
   ],
   "source": [
    "dir_tdt_tank = '/shared/lab/projects/encounter/data/TDT'\n",
    "dir_dg = '/shared/lab/projects/analysis/shaobo/data_dg'\n",
    "\n",
    "keyword_tank='Dante_U16-180603'\n",
    "keyword_blk='retract'\n",
    "\n",
    "name_tdt_block = 'd_MTS_bin_072216.*'\n",
    "# name_tdt_block = 'd_MTS_bin_(0722|0803)16.*'\n",
    "# name_tdt_block = 'd_MTS_bin_080316.*'\n",
    "\n",
    "\n",
    "[blk, data_df, name_tdt_blocks] = data_load_DLSH.load_data(\n",
    "    name_tdt_block, keyword_tank, mode='dg', \n",
    "    dir_tdt_tank=dir_tdt_tank, dir_dg=dir_dg,\n",
    "    tf_interactive=False, tf_verbose=False)\n",
    "\n",
    "# print(data_df.keys())\n",
    "\n",
    "\n",
    "# df_ana.DfPlot(data_df, 'status', x='MaskOpacity', c='SampleFamiliarized', p='', limit=None, plot_type=None)\n",
    "df_ana.DfPlot(data_df, 'status', x='NoiseOpacity', c='BwMaskOnset', p='SampleFamiliarized', binom_alpha=0.2)\n",
    "plt.gcf().set_size_inches(10,5)\n",
    "plt.savefig('../temp_figs/Dante_behavior_bwmask.pdf')\n",
    "plt.show()\n",
    "plt.close()\n",
    "\n"
   ]
  },
  {
   "cell_type": "code",
   "execution_count": 26,
   "metadata": {},
   "outputs": [
    {
     "data": {
      "text/plain": [
       "Index([''], dtype='object')"
      ]
     },
     "execution_count": 26,
     "metadata": {},
     "output_type": "execute_result"
    }
   ],
   "source": [
    "data_df.keys()"
   ]
  },
  {
   "cell_type": "code",
   "execution_count": null,
   "metadata": {},
   "outputs": [],
   "source": []
  }
 ],
 "metadata": {
  "kernelspec": {
   "display_name": "Python 3",
   "language": "python",
   "name": "python3"
  },
  "language_info": {
   "codemirror_mode": {
    "name": "ipython",
    "version": 3
   },
   "file_extension": ".py",
   "mimetype": "text/x-python",
   "name": "python",
   "nbconvert_exporter": "python",
   "pygments_lexer": "ipython3",
   "version": "3.6.5"
  }
 },
 "nbformat": 4,
 "nbformat_minor": 2
}
